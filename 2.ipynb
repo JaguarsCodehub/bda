{
 "cells": [
  {
   "cell_type": "code",
   "execution_count": 4,
   "metadata": {},
   "outputs": [
    {
     "name": "stdout",
     "output_type": "stream",
     "text": [
      "['admin', 'config', 'local', 'my_database']\n",
      "['books']\n",
      "2\n"
     ]
    }
   ],
   "source": [
    "import pymongo\n",
    "mongo_uri = \"mongodb://localhost:27017/\"\n",
    "client = pymongo.MongoClient(mongo_uri)\n",
    "print(client.list_database_names())\n",
    "db = client.my_database\n",
    "print(db.list_collection_names())\n",
    "table=db.books\n",
    "print(table.count_documents({}))"
   ]
  }
 ],
 "metadata": {
  "kernelspec": {
   "display_name": "Python 3",
   "language": "python",
   "name": "python3"
  },
  "language_info": {
   "codemirror_mode": {
    "name": "ipython",
    "version": 3
   },
   "file_extension": ".py",
   "mimetype": "text/x-python",
   "name": "python",
   "nbconvert_exporter": "python",
   "pygments_lexer": "ipython3",
   "version": "3.10.5"
  }
 },
 "nbformat": 4,
 "nbformat_minor": 2
}
